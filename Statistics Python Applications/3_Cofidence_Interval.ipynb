{
 "cells": [
  {
   "cell_type": "markdown",
   "id": "77e6d713",
   "metadata": {},
   "source": [
    "# Import Libraries"
   ]
  },
  {
   "cell_type": "code",
   "execution_count": 1,
   "id": "f2d5d68d",
   "metadata": {},
   "outputs": [],
   "source": [
    "import numpy as np\n",
    "from scipy import stats\n",
    "import matplotlib.pyplot as plt\n",
    "import seaborn as sns"
   ]
  },
  {
   "cell_type": "markdown",
   "id": "9ccae2a7",
   "metadata": {},
   "source": [
    "# Load Dataset"
   ]
  },
  {
   "cell_type": "code",
   "execution_count": 2,
   "id": "40944876",
   "metadata": {},
   "outputs": [
    {
     "data": {
      "text/plain": [
       "['anagrams',\n",
       " 'anscombe',\n",
       " 'attention',\n",
       " 'brain_networks',\n",
       " 'car_crashes',\n",
       " 'diamonds',\n",
       " 'dots',\n",
       " 'dowjones',\n",
       " 'exercise',\n",
       " 'flights',\n",
       " 'fmri',\n",
       " 'geyser',\n",
       " 'glue',\n",
       " 'healthexp',\n",
       " 'iris',\n",
       " 'mpg',\n",
       " 'penguins',\n",
       " 'planets',\n",
       " 'seaice',\n",
       " 'taxis',\n",
       " 'tips',\n",
       " 'titanic',\n",
       " 'anagrams',\n",
       " 'anagrams',\n",
       " 'anscombe',\n",
       " 'anscombe',\n",
       " 'attention',\n",
       " 'attention',\n",
       " 'brain_networks',\n",
       " 'brain_networks',\n",
       " 'car_crashes',\n",
       " 'car_crashes',\n",
       " 'diamonds',\n",
       " 'diamonds',\n",
       " 'dots',\n",
       " 'dots',\n",
       " 'dowjones',\n",
       " 'dowjones',\n",
       " 'exercise',\n",
       " 'exercise',\n",
       " 'flights',\n",
       " 'flights',\n",
       " 'fmri',\n",
       " 'fmri',\n",
       " 'geyser',\n",
       " 'geyser',\n",
       " 'glue',\n",
       " 'glue',\n",
       " 'healthexp',\n",
       " 'healthexp',\n",
       " 'iris',\n",
       " 'iris',\n",
       " 'mpg',\n",
       " 'mpg',\n",
       " 'penguins',\n",
       " 'penguins',\n",
       " 'planets',\n",
       " 'planets',\n",
       " 'seaice',\n",
       " 'seaice',\n",
       " 'taxis',\n",
       " 'taxis',\n",
       " 'tips',\n",
       " 'tips',\n",
       " 'titanic',\n",
       " 'titanic',\n",
       " 'anagrams',\n",
       " 'anscombe',\n",
       " 'attention',\n",
       " 'brain_networks',\n",
       " 'car_crashes',\n",
       " 'diamonds',\n",
       " 'dots',\n",
       " 'dowjones',\n",
       " 'exercise',\n",
       " 'flights',\n",
       " 'fmri',\n",
       " 'geyser',\n",
       " 'glue',\n",
       " 'healthexp',\n",
       " 'iris',\n",
       " 'mpg',\n",
       " 'penguins',\n",
       " 'planets',\n",
       " 'seaice',\n",
       " 'taxis',\n",
       " 'tips',\n",
       " 'titanic']"
      ]
     },
     "execution_count": 2,
     "metadata": {},
     "output_type": "execute_result"
    }
   ],
   "source": [
    "sns.get_dataset_names()"
   ]
  },
  {
   "cell_type": "code",
   "execution_count": 3,
   "id": "af46ce78",
   "metadata": {},
   "outputs": [],
   "source": [
    "tips = sns.load_dataset(\"tips\")"
   ]
  },
  {
   "cell_type": "markdown",
   "id": "bdb90ef7",
   "metadata": {},
   "source": [
    "\"tips\" veri seti, Seaborn kütüphanesi tarafından sağlanan ve restoran faturaları ile bahşişleri içeren örnek bir veri setidir. Bu veri seti, veri analizi ve veri görselleştirme tekniklerini öğrenmek ve uygulamak için sıkça kullanılır. İşte veri setinin sütunları ve bu sütunların ne anlama geldiği hakkında daha detaylı bilgi:\n",
    "\n",
    "    total_bill: Toplam fatura tutarı (dolar cinsinden). Bu, müşteri grubunun restoranda ödemesi gereken toplam miktardır.\n",
    "    tip: Bahşiş miktarı (dolar cinsinden). Bu, müşteri grubunun garsona bıraktığı bahşiş miktarını gösterir.\n",
    "    sex: Müşterinin cinsiyeti. Bu sütun \"Male\" (Erkek) veya \"Female\" (Kadın) değerlerini alır.\n",
    "    smoker: Müşterinin sigara içip içmediği. Bu sütun \"Yes\" (Evet) veya \"No\" (Hayır) değerlerini alır.\n",
    "    day: Faturanın kesildiği gün. Bu sütun \"Thur\" (Perşembe), \"Fri\" (Cuma), \"Sat\" (Cumartesi) ve \"Sun\" (Pazar) değerlerini alır.\n",
    "    time: Günün hangi saatinde yemek yendiği. Bu sütun \"Lunch\" (Öğle Yemeği) veya \"Dinner\" (Akşam Yemeği) değerlerini alır.\n",
    "    size: Müşteri grubu boyutu. Bu, restoranda birlikte yemek yiyen müşteri sayısını belirtir.\n",
    "    \n",
    "    \n",
    "    \n",
    "    \n",
    "    The \"tips\" dataset is a sample dataset provided by the Seaborn library that contains information on restaurant bills and tips. This dataset is frequently used to learn and apply data analysis and data visualization techniques. Here is more detailed information about the columns in the dataset and what they mean:\n",
    "\n",
    "    total_bill: The total bill amount (in dollars). This is the total amount the customer group needs to pay at the restaurant.\n",
    "    tip: The tip amount (in dollars). This shows the amount of tip left by the customer group for the server.\n",
    "    sex: The gender of the customer. This column takes the values \"Male\" or \"Female\".\n",
    "    smoker: Whether the customer is a smoker. This column takes the values \"Yes\" or \"No\".\n",
    "    day: The day the bill was issued. This column takes the values \"Thur\" (Thursday), \"Fri\" (Friday), \"Sat\" (Saturday), and \"Sun\" (Sunday).\n",
    "    time: The time of day when the meal was eaten. This column takes the values \"Lunch\" or \"Dinner\".\n",
    "    size: The size of the customer group. This indicates the number of people dining together at the restaurant."
   ]
  },
  {
   "cell_type": "code",
   "execution_count": 4,
   "id": "00fe4f09",
   "metadata": {},
   "outputs": [
    {
     "data": {
      "text/html": [
       "<div>\n",
       "<style scoped>\n",
       "    .dataframe tbody tr th:only-of-type {\n",
       "        vertical-align: middle;\n",
       "    }\n",
       "\n",
       "    .dataframe tbody tr th {\n",
       "        vertical-align: top;\n",
       "    }\n",
       "\n",
       "    .dataframe thead th {\n",
       "        text-align: right;\n",
       "    }\n",
       "</style>\n",
       "<table border=\"1\" class=\"dataframe\">\n",
       "  <thead>\n",
       "    <tr style=\"text-align: right;\">\n",
       "      <th></th>\n",
       "      <th>total_bill</th>\n",
       "      <th>tip</th>\n",
       "      <th>sex</th>\n",
       "      <th>smoker</th>\n",
       "      <th>day</th>\n",
       "      <th>time</th>\n",
       "      <th>size</th>\n",
       "    </tr>\n",
       "  </thead>\n",
       "  <tbody>\n",
       "    <tr>\n",
       "      <th>0</th>\n",
       "      <td>16.99</td>\n",
       "      <td>1.01</td>\n",
       "      <td>Female</td>\n",
       "      <td>No</td>\n",
       "      <td>Sun</td>\n",
       "      <td>Dinner</td>\n",
       "      <td>2</td>\n",
       "    </tr>\n",
       "    <tr>\n",
       "      <th>1</th>\n",
       "      <td>10.34</td>\n",
       "      <td>1.66</td>\n",
       "      <td>Male</td>\n",
       "      <td>No</td>\n",
       "      <td>Sun</td>\n",
       "      <td>Dinner</td>\n",
       "      <td>3</td>\n",
       "    </tr>\n",
       "    <tr>\n",
       "      <th>2</th>\n",
       "      <td>21.01</td>\n",
       "      <td>3.50</td>\n",
       "      <td>Male</td>\n",
       "      <td>No</td>\n",
       "      <td>Sun</td>\n",
       "      <td>Dinner</td>\n",
       "      <td>3</td>\n",
       "    </tr>\n",
       "    <tr>\n",
       "      <th>3</th>\n",
       "      <td>23.68</td>\n",
       "      <td>3.31</td>\n",
       "      <td>Male</td>\n",
       "      <td>No</td>\n",
       "      <td>Sun</td>\n",
       "      <td>Dinner</td>\n",
       "      <td>2</td>\n",
       "    </tr>\n",
       "    <tr>\n",
       "      <th>4</th>\n",
       "      <td>24.59</td>\n",
       "      <td>3.61</td>\n",
       "      <td>Female</td>\n",
       "      <td>No</td>\n",
       "      <td>Sun</td>\n",
       "      <td>Dinner</td>\n",
       "      <td>4</td>\n",
       "    </tr>\n",
       "  </tbody>\n",
       "</table>\n",
       "</div>"
      ],
      "text/plain": [
       "   total_bill   tip     sex smoker  day    time  size\n",
       "0       16.99  1.01  Female     No  Sun  Dinner     2\n",
       "1       10.34  1.66    Male     No  Sun  Dinner     3\n",
       "2       21.01  3.50    Male     No  Sun  Dinner     3\n",
       "3       23.68  3.31    Male     No  Sun  Dinner     2\n",
       "4       24.59  3.61  Female     No  Sun  Dinner     4"
      ]
     },
     "execution_count": 4,
     "metadata": {},
     "output_type": "execute_result"
    }
   ],
   "source": [
    "tips.head()"
   ]
  },
  {
   "cell_type": "markdown",
   "id": "ab1210c3",
   "metadata": {},
   "source": [
    "### Describe Data"
   ]
  },
  {
   "cell_type": "code",
   "execution_count": 5,
   "id": "f25ec8ec",
   "metadata": {},
   "outputs": [
    {
     "data": {
      "text/html": [
       "<div>\n",
       "<style scoped>\n",
       "    .dataframe tbody tr th:only-of-type {\n",
       "        vertical-align: middle;\n",
       "    }\n",
       "\n",
       "    .dataframe tbody tr th {\n",
       "        vertical-align: top;\n",
       "    }\n",
       "\n",
       "    .dataframe thead th {\n",
       "        text-align: right;\n",
       "    }\n",
       "</style>\n",
       "<table border=\"1\" class=\"dataframe\">\n",
       "  <thead>\n",
       "    <tr style=\"text-align: right;\">\n",
       "      <th></th>\n",
       "      <th>count</th>\n",
       "      <th>mean</th>\n",
       "      <th>std</th>\n",
       "      <th>min</th>\n",
       "      <th>25%</th>\n",
       "      <th>50%</th>\n",
       "      <th>75%</th>\n",
       "      <th>max</th>\n",
       "    </tr>\n",
       "  </thead>\n",
       "  <tbody>\n",
       "    <tr>\n",
       "      <th>total_bill</th>\n",
       "      <td>244.0</td>\n",
       "      <td>19.785943</td>\n",
       "      <td>8.902412</td>\n",
       "      <td>3.07</td>\n",
       "      <td>13.3475</td>\n",
       "      <td>17.795</td>\n",
       "      <td>24.1275</td>\n",
       "      <td>50.81</td>\n",
       "    </tr>\n",
       "    <tr>\n",
       "      <th>tip</th>\n",
       "      <td>244.0</td>\n",
       "      <td>2.998279</td>\n",
       "      <td>1.383638</td>\n",
       "      <td>1.00</td>\n",
       "      <td>2.0000</td>\n",
       "      <td>2.900</td>\n",
       "      <td>3.5625</td>\n",
       "      <td>10.00</td>\n",
       "    </tr>\n",
       "    <tr>\n",
       "      <th>size</th>\n",
       "      <td>244.0</td>\n",
       "      <td>2.569672</td>\n",
       "      <td>0.951100</td>\n",
       "      <td>1.00</td>\n",
       "      <td>2.0000</td>\n",
       "      <td>2.000</td>\n",
       "      <td>3.0000</td>\n",
       "      <td>6.00</td>\n",
       "    </tr>\n",
       "  </tbody>\n",
       "</table>\n",
       "</div>"
      ],
      "text/plain": [
       "            count       mean       std   min      25%     50%      75%    max\n",
       "total_bill  244.0  19.785943  8.902412  3.07  13.3475  17.795  24.1275  50.81\n",
       "tip         244.0   2.998279  1.383638  1.00   2.0000   2.900   3.5625  10.00\n",
       "size        244.0   2.569672  0.951100  1.00   2.0000   2.000   3.0000   6.00"
      ]
     },
     "execution_count": 5,
     "metadata": {},
     "output_type": "execute_result"
    }
   ],
   "source": [
    "tips.describe().T"
   ]
  },
  {
   "cell_type": "markdown",
   "id": "13e6cce8",
   "metadata": {},
   "source": [
    "# Barplot with Error Bars using Seaborn"
   ]
  },
  {
   "cell_type": "code",
   "execution_count": 7,
   "id": "61c1dfe3",
   "metadata": {},
   "outputs": [
    {
     "data": {
      "image/png": "[encoded data removed]",
      "text/plain": [
       "<Figure size 640x480 with 1 Axes>"
      ]
     },
     "metadata": {},
     "output_type": "display_data"
    }
   ],
   "source": [
    "sns.barplot(x=\"day\", y=\"total_bill\", data=tips, errorbar=('ci', 95)); "
   ]
  },
  {
   "cell_type": "markdown",
   "id": "10053df5",
   "metadata": {},
   "source": [
    "# Confidence Interval Step by Step"
   ]
  },
  {
   "cell_type": "markdown",
   "id": "cdfae71e",
   "metadata": {},
   "source": [
    "Calculate the sample mean"
   ]
  },
  {
   "cell_type": "code",
   "execution_count": null,
   "id": "8991860e",
   "metadata": {},
   "outputs": [],
   "source": [
    "xbar = tips[tips[\"day\"] == \"Fri\"][\"total_bill\"].mean()\n",
    "xbar"
   ]
  },
  {
   "cell_type": "markdown",
   "id": "60e8c90d",
   "metadata": {},
   "source": [
    "Calculate the sample standard deviation"
   ]
  },
  {
   "cell_type": "code",
   "execution_count": null,
   "id": "0d7ad11c",
   "metadata": {},
   "outputs": [],
   "source": [
    "s = tips[tips[\"day\"] == \"Fri\"][\"total_bill\"].std()\n",
    "s"
   ]
  },
  {
   "cell_type": "markdown",
   "id": "375c61da",
   "metadata": {},
   "source": [
    "Calculate the sample size"
   ]
  },
  {
   "cell_type": "code",
   "execution_count": null,
   "id": "8256922c",
   "metadata": {},
   "outputs": [],
   "source": [
    "n = tips[tips[\"day\"] == \"Fri\"][\"total_bill\"].count()\n",
    "n"
   ]
  },
  {
   "cell_type": "markdown",
   "id": "da726c8b",
   "metadata": {},
   "source": [
    "Calculate the standard error of the sample mean"
   ]
  },
  {
   "cell_type": "code",
   "execution_count": null,
   "id": "f02a513c",
   "metadata": {},
   "outputs": [],
   "source": [
    "#with formula\n",
    "s / np.sqrt(n)    "
   ]
  },
  {
   "cell_type": "code",
   "execution_count": null,
   "id": "c12be3ef",
   "metadata": {},
   "outputs": [],
   "source": [
    "#with pandas method\n",
    "sem = tips[tips[\"day\"] == \"Fri\"][\"total_bill\"].sem()\n",
    "sem"
   ]
  },
  {
   "cell_type": "markdown",
   "id": "c785900b",
   "metadata": {},
   "source": [
    "Calculate the margin of the error"
   ]
  },
  {
   "cell_type": "code",
   "execution_count": null,
   "id": "6adf78ff",
   "metadata": {},
   "outputs": [],
   "source": [
    "#for 95% Confidence Level\n",
    "moe = 1.96 * sem\n",
    "moe"
   ]
  },
  {
   "cell_type": "markdown",
   "id": "b3554ba7",
   "metadata": {},
   "source": [
    "How to calculate z critical value"
   ]
  },
  {
   "cell_type": "code",
   "execution_count": null,
   "id": "6ea2aca0",
   "metadata": {},
   "outputs": [],
   "source": [
    "z = stats.norm.ppf(1-0.025)"
   ]
  },
  {
   "cell_type": "code",
   "execution_count": null,
   "id": "ff983dcb",
   "metadata": {},
   "outputs": [],
   "source": [
    "#for 95% Confidence Level\n",
    "moe = z * sem\n",
    "moe"
   ]
  },
  {
   "cell_type": "markdown",
   "id": "909ee9cc",
   "metadata": {},
   "source": [
    "Calculate lower confidence limit"
   ]
  },
  {
   "cell_type": "code",
   "execution_count": null,
   "id": "acf02bee",
   "metadata": {},
   "outputs": [],
   "source": [
    "lower_limit = xbar - moe\n",
    "lower_limit"
   ]
  },
  {
   "cell_type": "markdown",
   "id": "e28d1afa",
   "metadata": {},
   "source": [
    "Calculate upper confidence limit"
   ]
  },
  {
   "cell_type": "code",
   "execution_count": null,
   "id": "270a6da4",
   "metadata": {},
   "outputs": [],
   "source": [
    "upper_limit = xbar + moe\n",
    "upper_limit"
   ]
  },
  {
   "cell_type": "markdown",
   "id": "003d8e8b",
   "metadata": {},
   "source": [
    "# Confidence Interval using Normal Distribution"
   ]
  },
  {
   "cell_type": "code",
   "execution_count": null,
   "id": "7a431fe8",
   "metadata": {},
   "outputs": [],
   "source": [
    "stats.norm.interval(confidence=0.95, loc=xbar, scale=sem)"
   ]
  },
  {
   "cell_type": "markdown",
   "id": "603e413c",
   "metadata": {},
   "source": [
    "# Confidence Interval using t Distribution"
   ]
  },
  {
   "cell_type": "markdown",
   "id": "35a110b9",
   "metadata": {},
   "source": [
    "Confidence Interval using t Distribution"
   ]
  },
  {
   "cell_type": "code",
   "execution_count": null,
   "id": "5029b3e3",
   "metadata": {},
   "outputs": [],
   "source": [
    "stats.t.interval(confidence=0.95, df=n-1, loc=xbar, scale=sem)   #CORRECT"
   ]
  },
  {
   "cell_type": "markdown",
   "id": "0eca9b06",
   "metadata": {},
   "source": [
    "# Extra Practices"
   ]
  },
  {
   "cell_type": "markdown",
   "id": "2dac6a49",
   "metadata": {},
   "source": [
    "For Saturday"
   ]
  },
  {
   "cell_type": "code",
   "execution_count": null,
   "id": "67fde1fa",
   "metadata": {},
   "outputs": [],
   "source": [
    "stats.t.interval(confidence=0.95,                                       #CONFIDENCE LEVEL\n",
    "                 df=tips[tips[\"day\"] == \"Sat\"][\"total_bill\"].count()-1, #DEGREES OF FREEDOM (N-1)\n",
    "                 loc=tips[tips[\"day\"] == \"Sat\"][\"total_bill\"].mean(),   #MEAN\n",
    "                 scale=tips[tips[\"day\"] == \"Sat\"][\"total_bill\"].sem())  #STANDARD ERROR OF THE MEAN"
   ]
  },
  {
   "cell_type": "code",
   "execution_count": null,
   "id": "8936558a",
   "metadata": {},
   "outputs": [],
   "source": [
    "stats.t.interval(confidence=0.99,                                       #CONFIDENCE LEVEL\n",
    "                 df=tips[tips[\"day\"] == \"Sat\"][\"total_bill\"].count()-1, #DEGREES OF FREEDOM (N-1)\n",
    "                 loc=tips[tips[\"day\"] == \"Sat\"][\"total_bill\"].mean(),   #MEAN\n",
    "                 scale=tips[tips[\"day\"] == \"Sat\"][\"total_bill\"].sem())  #STANDARD ERROR OF THE MEAN"
   ]
  },
  {
   "cell_type": "code",
   "execution_count": null,
   "id": "239deb77",
   "metadata": {},
   "outputs": [],
   "source": [
    "#The higher the confidence level, the wider the confidence interval"
   ]
  },
  {
   "cell_type": "code",
   "execution_count": null,
   "id": "0c639a18",
   "metadata": {},
   "outputs": [],
   "source": [
    "stats.t.interval(confidence=0.999,                                      #CONFIDENCE LEVEL\n",
    "                 df=tips[tips[\"day\"] == \"Sat\"][\"total_bill\"].count()-1, #DEGREES OF FREEDOM (N-1)\n",
    "                 loc=tips[tips[\"day\"] == \"Sat\"][\"total_bill\"].mean(),   #MEAN\n",
    "                 scale=tips[tips[\"day\"] == \"Sat\"][\"total_bill\"].sem())  #STANDARD ERROR OF THE MEAN"
   ]
  },
  {
   "cell_type": "code",
   "execution_count": null,
   "id": "44af9528",
   "metadata": {},
   "outputs": [],
   "source": []
  }
 ],
 "metadata": {
  "kernelspec": {
   "display_name": "Python 3 (ipykernel)",
   "language": "python",
   "name": "python3"
  },
  "language_info": {
   "codemirror_mode": {
    "name": "ipython",
    "version": 3
   },
   "file_extension": ".py",
   "mimetype": "text/x-python",
   "name": "python",
   "nbconvert_exporter": "python",
   "pygments_lexer": "ipython3",
   "version": "3.11.5"
  }
 },
 "nbformat": 4,
 "nbformat_minor": 5
}
