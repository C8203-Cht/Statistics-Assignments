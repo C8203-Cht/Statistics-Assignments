{
 "cells": [
  {
   "cell_type": "markdown",
   "metadata": {
    "id": "hxZQPCo27hld"
   },
   "source": []
  },
  {
   "cell_type": "code",
   "execution_count": 16,
   "metadata": {
    "id": "SjbNIu-G7TBo"
   },
   "outputs": [],
   "source": [
    "#NumPy\n",
    "#Pandas\n",
    "#SciPy (stats)\n",
    "#Seaborn\n",
    "#Matplotlib"
   ]
  },
  {
   "cell_type": "code",
   "execution_count": 17,
   "metadata": {
    "id": "Zxu8Ibm_7sqW"
   },
   "outputs": [],
   "source": [
    "import numpy"
   ]
  },
  {
   "cell_type": "code",
   "execution_count": 18,
   "metadata": {
    "colab": {
     "base_uri": "https://localhost:8080/"
    },
    "id": "ve8PHuFL8IVH",
    "outputId": "c0c6d6df-c32f-4337-9f3e-d2065e16b410"
   },
   "outputs": [
    {
     "name": "stdout",
     "output_type": "stream",
     "text": [
      "1.24.3\n"
     ]
    }
   ],
   "source": [
    "print(numpy.__version__)"
   ]
  },
  {
   "cell_type": "code",
   "execution_count": 19,
   "metadata": {
    "id": "s5Jhg2kE8Nje"
   },
   "outputs": [],
   "source": [
    "import numpy as np\n",
    "import seaborn as sns\n",
    "from scipy import stats"
   ]
  },
  {
   "cell_type": "code",
   "execution_count": 20,
   "metadata": {
    "id": "00oNAJwN8qcC"
   },
   "outputs": [],
   "source": [
    "a = [5,7,10,15,19,21,21,22,22,23,23,23,23,23,24,24,24,24,25]"
   ]
  },
  {
   "cell_type": "code",
   "execution_count": 21,
   "metadata": {
    "colab": {
     "base_uri": "https://localhost:8080/"
    },
    "id": "2qcaSzSj9O7U",
    "outputId": "14cc58b0-44b4-4526-f07f-014560a30edc"
   },
   "outputs": [
    {
     "data": {
      "text/plain": [
       "19"
      ]
     },
     "execution_count": 21,
     "metadata": {},
     "output_type": "execute_result"
    }
   ],
   "source": [
    "len(a)"
   ]
  },
  {
   "cell_type": "markdown",
   "metadata": {
    "id": "DOGgcYMM9WuA"
   },
   "source": [
    "#Mean"
   ]
  },
  {
   "cell_type": "code",
   "execution_count": 22,
   "metadata": {
    "colab": {
     "base_uri": "https://localhost:8080/"
    },
    "id": "Mn4s50W39P4f",
    "outputId": "f9a83f99-db3d-4ed3-f85b-b11cdc1bed24"
   },
   "outputs": [
    {
     "data": {
      "text/plain": [
       "19.894736842105264"
      ]
     },
     "execution_count": 22,
     "metadata": {},
     "output_type": "execute_result"
    }
   ],
   "source": [
    "np.mean(a)"
   ]
  },
  {
   "cell_type": "markdown",
   "metadata": {
    "id": "faKvz0oI9sSR"
   },
   "source": [
    "#Median"
   ]
  },
  {
   "cell_type": "code",
   "execution_count": 23,
   "metadata": {
    "colab": {
     "base_uri": "https://localhost:8080/"
    },
    "id": "PiF0qPqm9Y3X",
    "outputId": "7ae812a7-3b20-41a2-ed02-4b09aee903f8"
   },
   "outputs": [
    {
     "data": {
      "text/plain": [
       "23.0"
      ]
     },
     "execution_count": 23,
     "metadata": {},
     "output_type": "execute_result"
    }
   ],
   "source": [
    "np.median(a)"
   ]
  },
  {
   "cell_type": "markdown",
   "metadata": {
    "id": "Seihc3jX9xRM"
   },
   "source": [
    "#Mode"
   ]
  },
  {
   "cell_type": "code",
   "execution_count": null,
   "metadata": {},
   "outputs": [],
   "source": [
    "# NumPy, mod hesaplaması için doğrudan bir fonksiyon sunmaz, ancak SciPy kütüphanesi bu işlevi sağlar.\n",
    "# SciPy'nin stats modülünde bulunan mode fonksiyonunu kullanarak bir liste veya NumPy array'in modunu hesaplayabilirsiniz."
   ]
  },
  {
   "cell_type": "code",
   "execution_count": 24,
   "metadata": {
    "colab": {
     "base_uri": "https://localhost:8080/"
    },
    "id": "dkxjAFkK9t1A",
    "outputId": "fe6d1a74-e10f-4fe3-904d-45ed353136ed"
   },
   "outputs": [
    {
     "data": {
      "text/plain": [
       "ModeResult(mode=23, count=5)"
      ]
     },
     "execution_count": 24,
     "metadata": {},
     "output_type": "execute_result"
    }
   ],
   "source": [
    "stats.mode(a)"
   ]
  },
  {
   "cell_type": "code",
   "execution_count": 25,
   "metadata": {
    "colab": {
     "base_uri": "https://localhost:8080/"
    },
    "id": "Zgc7FzmO9t3x",
    "outputId": "f0235b2c-0c59-4c40-ca3b-4b2f39e9129d"
   },
   "outputs": [
    {
     "data": {
      "text/plain": [
       "23"
      ]
     },
     "execution_count": 25,
     "metadata": {},
     "output_type": "execute_result"
    }
   ],
   "source": [
    "stats.mode(a)[0]"
   ]
  },
  {
   "cell_type": "code",
   "execution_count": 26,
   "metadata": {
    "colab": {
     "base_uri": "https://localhost:8080/"
    },
    "id": "ihEcOMJu9t6O",
    "outputId": "739082e2-035b-4f89-d80e-3655e263410c"
   },
   "outputs": [
    {
     "data": {
      "text/plain": [
       "numpy.int32"
      ]
     },
     "execution_count": 26,
     "metadata": {},
     "output_type": "execute_result"
    }
   ],
   "source": [
    "type(stats.mode(a)[0])"
   ]
  },
  {
   "cell_type": "code",
   "execution_count": 30,
   "metadata": {
    "colab": {
     "base_uri": "https://localhost:8080/"
    },
    "id": "UG2Yhuiv9Y6G",
    "outputId": "e9e1888b-f9ae-4358-bda9-b71c3089b02b"
   },
   "outputs": [
    {
     "data": {
      "text/plain": [
       "23"
      ]
     },
     "execution_count": 30,
     "metadata": {},
     "output_type": "execute_result"
    }
   ],
   "source": [
    "stats.mode(a)[0]"
   ]
  },
  {
   "cell_type": "markdown",
   "metadata": {
    "id": "oJ-PGspu-cf2"
   },
   "source": [
    "#Min"
   ]
  },
  {
   "cell_type": "code",
   "execution_count": 31,
   "metadata": {
    "colab": {
     "base_uri": "https://localhost:8080/"
    },
    "id": "Nevx-kiX-NSz",
    "outputId": "635047f9-0ed0-4f0d-9667-c91db19eb822"
   },
   "outputs": [
    {
     "data": {
      "text/plain": [
       "5"
      ]
     },
     "execution_count": 31,
     "metadata": {},
     "output_type": "execute_result"
    }
   ],
   "source": [
    "np.min(a)"
   ]
  },
  {
   "cell_type": "markdown",
   "metadata": {
    "id": "CiDWCa5b-gNS"
   },
   "source": [
    "#Max"
   ]
  },
  {
   "cell_type": "code",
   "execution_count": 32,
   "metadata": {
    "colab": {
     "base_uri": "https://localhost:8080/"
    },
    "id": "axgRxA90-aWa",
    "outputId": "6cb6d09d-c979-4ff6-b24a-dc356230f43c"
   },
   "outputs": [
    {
     "data": {
      "text/plain": [
       "25"
      ]
     },
     "execution_count": 32,
     "metadata": {},
     "output_type": "execute_result"
    }
   ],
   "source": [
    "np.max(a)"
   ]
  },
  {
   "cell_type": "markdown",
   "metadata": {
    "id": "nv3NNJqX-pTp"
   },
   "source": [
    "#Q1"
   ]
  },
  {
   "cell_type": "code",
   "execution_count": 33,
   "metadata": {
    "id": "fUf30MFa-aeu"
   },
   "outputs": [],
   "source": [
    "#help(np.percentile)"
   ]
  },
  {
   "cell_type": "code",
   "execution_count": 35,
   "metadata": {
    "colab": {
     "base_uri": "https://localhost:8080/"
    },
    "id": "-yT1q1aE-NV3",
    "outputId": "b4898a8b-9383-46c3-c98b-40e101314d90"
   },
   "outputs": [
    {
     "data": {
      "text/plain": [
       "20.0"
      ]
     },
     "execution_count": 35,
     "metadata": {},
     "output_type": "execute_result"
    }
   ],
   "source": [
    "q1 = np.percentile(a, 25)\n",
    "q1"
   ]
  },
  {
   "cell_type": "markdown",
   "metadata": {
    "id": "erm72Y6R_X6A"
   },
   "source": [
    "#Q2"
   ]
  },
  {
   "cell_type": "code",
   "execution_count": 36,
   "metadata": {
    "colab": {
     "base_uri": "https://localhost:8080/"
    },
    "id": "Ad6CeKn3_K87",
    "outputId": "144e7ddd-a504-4080-d9c9-ae65d98cfd8e"
   },
   "outputs": [
    {
     "data": {
      "text/plain": [
       "23.0"
      ]
     },
     "execution_count": 36,
     "metadata": {},
     "output_type": "execute_result"
    }
   ],
   "source": [
    "np.percentile(a, 50)"
   ]
  },
  {
   "cell_type": "markdown",
   "metadata": {
    "id": "uPrc6WzU_eR8"
   },
   "source": [
    "#Q3"
   ]
  },
  {
   "cell_type": "code",
   "execution_count": 37,
   "metadata": {
    "colab": {
     "base_uri": "https://localhost:8080/"
    },
    "id": "6con29nQ_LAE",
    "outputId": "d402dfab-41f4-4671-c825-d0a2b1b54f22"
   },
   "outputs": [
    {
     "data": {
      "text/plain": [
       "23.5"
      ]
     },
     "execution_count": 37,
     "metadata": {},
     "output_type": "execute_result"
    }
   ],
   "source": [
    "q3 = np.percentile(a, 75)\n",
    "q3"
   ]
  },
  {
   "cell_type": "code",
   "execution_count": 38,
   "metadata": {
    "colab": {
     "base_uri": "https://localhost:8080/"
    },
    "id": "nqGG6AgD_8Oh",
    "outputId": "fd5f2a31-445e-437c-d40c-cb4e9e1d7ccd"
   },
   "outputs": [
    {
     "data": {
      "text/plain": [
       "array([ 5. , 20. , 23. , 23.5, 25. ])"
      ]
     },
     "execution_count": 38,
     "metadata": {},
     "output_type": "execute_result"
    }
   ],
   "source": [
    "#list\n",
    "np.percentile(a, [0, 25, 50, 75, 100])"
   ]
  },
  {
   "cell_type": "markdown",
   "metadata": {
    "id": "rEoWaVAw_o3s"
   },
   "source": [
    "#IQR"
   ]
  },
  {
   "cell_type": "code",
   "execution_count": 39,
   "metadata": {
    "colab": {
     "base_uri": "https://localhost:8080/"
    },
    "id": "h_Mz9qhY_LC-",
    "outputId": "ffc4fe8d-f4ac-48f4-8666-f2c4295187ba"
   },
   "outputs": [
    {
     "data": {
      "text/plain": [
       "3.5"
      ]
     },
     "execution_count": 39,
     "metadata": {},
     "output_type": "execute_result"
    }
   ],
   "source": [
    "q3 - q1"
   ]
  },
  {
   "cell_type": "code",
   "execution_count": 40,
   "metadata": {
    "colab": {
     "base_uri": "https://localhost:8080/"
    },
    "id": "79ZvP893-NZA",
    "outputId": "12302957-3e9e-462a-ecf9-1164ca7b71f6"
   },
   "outputs": [
    {
     "data": {
      "text/plain": [
       "3.5"
      ]
     },
     "execution_count": 40,
     "metadata": {},
     "output_type": "execute_result"
    }
   ],
   "source": [
    "stats.iqr(a)"
   ]
  },
  {
   "cell_type": "markdown",
   "metadata": {
    "id": "pTZkVaY1At4d"
   },
   "source": [
    "#Variance"
   ]
  },
  {
   "cell_type": "code",
   "execution_count": 41,
   "metadata": {
    "colab": {
     "base_uri": "https://localhost:8080/"
    },
    "id": "Vm6RDJ8n_uaX",
    "outputId": "2b440933-f2b5-4ba8-a07f-59e4d7d987ca"
   },
   "outputs": [
    {
     "data": {
      "text/plain": [
       "34.93628808864266"
      ]
     },
     "execution_count": 41,
     "metadata": {},
     "output_type": "execute_result"
    }
   ],
   "source": [
    "np.var(a)"
   ]
  },
  {
   "cell_type": "markdown",
   "metadata": {
    "id": "AYYEVIyXAzU3"
   },
   "source": [
    "#Standard Deviation"
   ]
  },
  {
   "cell_type": "code",
   "execution_count": 42,
   "metadata": {
    "colab": {
     "base_uri": "https://localhost:8080/"
    },
    "id": "IYE0QePPAtC8",
    "outputId": "e0fb942a-c142-4065-8b1b-14cb26b46679"
   },
   "outputs": [
    {
     "data": {
      "text/plain": [
       "5.910692691101667"
      ]
     },
     "execution_count": 42,
     "metadata": {},
     "output_type": "execute_result"
    }
   ],
   "source": [
    "np.std(a)          #population std"
   ]
  },
  {
   "cell_type": "code",
   "execution_count": 43,
   "metadata": {
    "colab": {
     "base_uri": "https://localhost:8080/"
    },
    "id": "T3QBNI2SCIeM",
    "outputId": "c43dcbc6-5360-464e-8e91-a994c96cf6cd"
   },
   "outputs": [
    {
     "data": {
      "text/plain": [
       "6.0726594653789165"
      ]
     },
     "execution_count": 43,
     "metadata": {},
     "output_type": "execute_result"
    }
   ],
   "source": [
    "np.std(a, ddof=1)  #sample std olduğu için ddof=1 alınmıştır. Bu tahmini daha az yanlı hale getirir."
   ]
  },
  {
   "cell_type": "code",
   "execution_count": 45,
   "metadata": {
    "colab": {
     "base_uri": "https://localhost:8080/"
    },
    "id": "BzPdlvSWAtGG",
    "outputId": "8ce632e3-28f4-4072-c7f7-a33df8dfc4e4"
   },
   "outputs": [
    {
     "data": {
      "text/plain": [
       "5.910692691101667"
      ]
     },
     "execution_count": 45,
     "metadata": {},
     "output_type": "execute_result"
    }
   ],
   "source": [
    "np.sqrt(np.var(a)) # variance'ın karekökü de bize std'yi vermektedir."
   ]
  },
  {
   "cell_type": "markdown",
   "metadata": {
    "id": "KKpjT0gjBOXS"
   },
   "source": [
    "#Skewness"
   ]
  },
  {
   "cell_type": "code",
   "execution_count": 46,
   "metadata": {
    "colab": {
     "base_uri": "https://localhost:8080/"
    },
    "id": "FrfE1CitAtI7",
    "outputId": "a0ac9a53-74d2-4f79-ddd3-464a649d94f5"
   },
   "outputs": [
    {
     "data": {
      "text/plain": [
       "-1.5176315809887007"
      ]
     },
     "execution_count": 46,
     "metadata": {},
     "output_type": "execute_result"
    }
   ],
   "source": [
    "stats.skew(a)   #a is negatively skewed"
   ]
  },
  {
   "cell_type": "code",
   "execution_count": 47,
   "metadata": {
    "colab": {
     "base_uri": "https://localhost:8080/"
    },
    "id": "2J_7ZPZSC655",
    "outputId": "c5168ec3-cbb7-48ba-eead-0df5f433f425"
   },
   "outputs": [
    {
     "data": {
      "text/plain": [
       "19.894736842105264"
      ]
     },
     "execution_count": 47,
     "metadata": {},
     "output_type": "execute_result"
    }
   ],
   "source": [
    "np.mean(a)"
   ]
  },
  {
   "cell_type": "code",
   "execution_count": 48,
   "metadata": {
    "colab": {
     "base_uri": "https://localhost:8080/"
    },
    "id": "AgR3fK-pC701",
    "outputId": "aa4c9cd5-2a5d-4362-e751-f2280084fb75"
   },
   "outputs": [
    {
     "data": {
      "text/plain": [
       "23.0"
      ]
     },
     "execution_count": 48,
     "metadata": {},
     "output_type": "execute_result"
    }
   ],
   "source": [
    "np.median(a)"
   ]
  },
  {
   "cell_type": "code",
   "execution_count": 49,
   "metadata": {
    "colab": {
     "base_uri": "https://localhost:8080/"
    },
    "id": "dOcOcwUT_uj0",
    "outputId": "83f4c6a4-2f5d-4e53-daf4-c54f2645063e"
   },
   "outputs": [
    {
     "data": {
      "text/plain": [
       "0.8528442245963328"
      ]
     },
     "execution_count": 49,
     "metadata": {},
     "output_type": "execute_result"
    }
   ],
   "source": [
    "stats.kurtosis(a)"
   ]
  },
  {
   "cell_type": "code",
   "execution_count": 50,
   "metadata": {
    "colab": {
     "base_uri": "https://localhost:8080/"
    },
    "id": "SfJ5n6tA9Y82",
    "outputId": "a17b7c37-204a-4aa8-e8a1-d08cce0f06fc",
    "scrolled": true
   },
   "outputs": [
    {
     "data": {
      "text/plain": [
       "DescribeResult(nobs=19, minmax=(5, 25), mean=19.894736842105264, variance=36.877192982456144, skewness=-1.5176315809887007, kurtosis=0.8528442245963328)"
      ]
     },
     "execution_count": 50,
     "metadata": {},
     "output_type": "execute_result"
    }
   ],
   "source": [
    "stats.describe(a)"
   ]
  },
  {
   "cell_type": "code",
   "execution_count": null,
   "metadata": {},
   "outputs": [],
   "source": []
  }
 ],
 "metadata": {
  "colab": {
   "provenance": []
  },
  "kernelspec": {
   "display_name": "Python 3 (ipykernel)",
   "language": "python",
   "name": "python3"
  },
  "language_info": {
   "codemirror_mode": {
    "name": "ipython",
    "version": 3
   },
   "file_extension": ".py",
   "mimetype": "text/x-python",
   "name": "python",
   "nbconvert_exporter": "python",
   "pygments_lexer": "ipython3",
   "version": "3.11.5"
  }
 },
 "nbformat": 4,
 "nbformat_minor": 1
}
