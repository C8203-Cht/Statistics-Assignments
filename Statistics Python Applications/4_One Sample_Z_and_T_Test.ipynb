{
 "cells": [
  {
   "cell_type": "markdown",
   "id": "594157bf",
   "metadata": {},
   "source": [
    "# One Sample Z Test"
   ]
  },
  {
   "cell_type": "markdown",
   "id": "7555d533",
   "metadata": {},
   "source": [
    "Performed when the population variance or standard deviation are known."
   ]
  },
  {
   "cell_type": "markdown",
   "id": "39566214",
   "metadata": {},
   "source": [
    "## Example-1\n",
    "- Suppose that a beach is safe to swim if the mean level of lead in the water is 10.0 (μ0) parts/million.\n",
    "- We assume Xi ~ N(μ, σ = 1.5)\n",
    "- Water safety is going to be determined by taking 40 water samples and using the test statistic.\n",
    "- Sample mean = 10.5\n",
    "- α = 0.05\n",
    "\n",
    "\n",
    "Bu örnek, bir istatistiksel hipotez testini ve güven aralıklarını anlamaya yönelik bir uygulamadır. Örnekte, bir plajın yüzmek için güvenli olup olmadığını belirlemek amacıyla su örneklerinde kurşun seviyeleri analiz edilmektedir.\n",
    "\n",
    "Örnek Açıklaması\n",
    "Varsayılan Durum (Null Hypothesis, H0): Plajdaki suyun kurşun seviyesi ortalaması güvenli sınırlar içinde, yani \n",
    "𝜇\n",
    "0\n",
    "=\n",
    "10.0\n",
    "μ \n",
    "0\n",
    "​\n",
    " =10.0 parça/milyon (ppm).\n",
    "Alternatif Hipotez (Alternative Hypothesis, H1): Plajdaki suyun kurşun seviyesi ortalaması güvenli sınırların dışında, yani \n",
    "𝜇\n",
    "≠\n",
    "10.0\n",
    "μ\n",
    "\n",
    "=10.0 ppm.\n",
    "Örnekte kullanılan bilgiler:\n",
    "\n",
    "Kurşun seviyesi \n",
    "𝑋\n",
    "𝑖\n",
    "X \n",
    "i\n",
    "​\n",
    "  ~ N(μ, σ = 1.5), yani normal dağılıma sahip ve standart sapması 1.5.\n",
    "40 su örneği alınacak ve örnek ortalaması (sample mean) 10.5 ppm olarak bulunmuş.\n",
    "Test istatistiği kullanılacak.\n",
    "Testin anlamlılık seviyesi \n",
    "𝛼\n",
    "=\n",
    "0.05\n",
    "α=0.05."
   ]
  },
  {
   "cell_type": "code",
   "execution_count": 1,
   "id": "081be720",
   "metadata": {},
   "outputs": [],
   "source": [
    "#Import Libraries\n",
    "from scipy import stats\n",
    "import numpy as np"
   ]
  },
  {
   "cell_type": "code",
   "execution_count": 2,
   "id": "1c4ce55c",
   "metadata": {},
   "outputs": [],
   "source": [
    "#H0: mu = 10\n",
    "#H1: mu > 10"
   ]
  },
  {
   "cell_type": "markdown",
   "id": "cb0c8557",
   "metadata": {},
   "source": [
    "    Write the given variables\n",
    "    \n",
    "    Bu değerler, bir hipotez testi yaparken kullanılır ve tipik olarak aşağıdaki soruları cevaplamak için kullanılır:\n",
    "\n",
    "    Örneklem ortalaması, popülasyon ortalamasından anlamlı derecede farklı mı?\n",
    "    Popülasyonun standart sapması bilindiğinde, örneklem ortalamasının belirli bir güven düzeyinde popülasyon ortalamasından sapıp sapmadığını anlamak.\n",
    "    \n",
    "    These values are used when conducting a hypothesis test and are typically used to answer the following questions:\n",
    "\n",
    "    Is the sample mean significantly different from the population mean?\n",
    "    Given the population standard deviation, to determine if the sample mean deviates from the population mean at a certain confidence level."
   ]
  },
  {
   "cell_type": "code",
   "execution_count": 3,
   "id": "1447b42b",
   "metadata": {},
   "outputs": [],
   "source": [
    "mu = 10 # population mean\n",
    "\n",
    "xbar = 10.5  # sample mean\n",
    "\n",
    "n = 40    # sample size\n",
    "\n",
    "sigma = 1.5   # population standart deviation\n",
    "\n",
    "alpha = 0.05   # Significance level for %95"
   ]
  },
  {
   "cell_type": "markdown",
   "id": "22e51ced",
   "metadata": {},
   "source": [
    "    Calculate the test statistic\n",
    "    \n",
    "    Bu kod, z-test istatistiğini hesaplamak için kullanılır. Z-test, popülasyon standart sapması bilindiğinde örneklem ortalamasının popülasyon ortalamasından anlamlı derecede farklı olup olmadığını test etmek için kullanılır.\n",
    "    \n",
    "    This code is used to calculate the z-test statistic. The z-test is used to test whether the sample mean is significantly different from the population mean when the population standard deviation is known."
   ]
  },
  {
   "cell_type": "markdown",
   "id": "baaea8e0",
   "metadata": {},
   "source": [
    "    Bu kod çalıştırıldığında, z değeri yaklaşık olarak 2.11 bulunacaktır. Bu değeri, z-tablolarıyla karşılaştırarak örneklem ortalamasının popülasyon ortalamasından anlamlı derecede farklı olup olmadığını test edebilirsiniz. Örneğin, %95 güven düzeyinde (α = 0.05), z değeri yaklaşık olarak ±1.96'dan büyük veya küçükse, null hipotezi reddedebilirsiniz. Bu durumda, z değeri 2.11 olduğu için, 10.5'lik örneklem ortalamasının 10'luk popülasyon ortalamasından anlamlı derecede farklı olduğunu söyleyebiliriz.\n",
    "    \n",
    "    When this code is executed, the z value will be approximately 2.11. You can compare this value to z-tables to test if the sample mean is significantly different from the population mean. For example, at the 95% confidence level (α = 0.05), if the z value is approximately greater than ±1.96, you can reject the null hypothesis. In this case, since the z value is 2.11, we can say that the sample mean of 10.5 is significantly different from the population mean of 10."
   ]
  },
  {
   "cell_type": "code",
   "execution_count": 6,
   "id": "036aaea9",
   "metadata": {},
   "outputs": [
    {
     "data": {
      "text/plain": [
       "2.1081851067789197"
      ]
     },
     "execution_count": 6,
     "metadata": {},
     "output_type": "execute_result"
    }
   ],
   "source": [
    "z = (xbar - mu) / (sigma/np.sqrt(n))\n",
    "z"
   ]
  },
  {
   "cell_type": "markdown",
   "id": "51cbff53",
   "metadata": {},
   "source": [
    "    Calculate the p-value\n",
    "    \n",
    "    Bu kod, hesaplanan z-değerine karşılık gelen p-değerini hesaplar. Z-testte, p-değeri örneklem ortalamasının popülasyon ortalamasından ne kadar farklı olduğunu belirler. Düşük bir p-değeri, örneklem ortalamasının popülasyon ortalamasından anlamlı derecede farklı olduğunu gösterir.\n",
    "    \n",
    "    \n",
    "    p-değeri: p-değeri genellikle bir eşik değer (genellikle 0.05) ile karşılaştırılır. Eğer p-değeri bu eşik değerden küçükse, null hipotez reddedilir ve örneklem ortalamasının popülasyon ortalamasından anlamlı derecede farklı olduğu sonucuna varılır. Bu durumda, p-değerinin küçük olması, 10.5'lik örneklem ortalamasının 10'luk popülasyon ortalamasından anlamlı derecede farklı olduğunu gösterir.\n",
    "    \n",
    "    \n",
    "    This code calculates the p-value corresponding to the computed z-score. In a z-test, the p-value indicates how different the sample mean is from the population mean. A low p-value suggests that the sample mean is significantly different from the population mean.\n",
    "\n",
    "    The p-value is usually compared to a threshold value (commonly 0.05). If the p-value is smaller than this threshold, the null hypothesis is rejected, indicating that the sample mean is significantly different from the population mean. In this case, a small p-value shows that the sample mean of 10.5 is significantly different from the population mean of 10.\n",
    "    \n",
    "    "
   ]
  },
  {
   "cell_type": "code",
   "execution_count": 7,
   "id": "11cb21b6",
   "metadata": {},
   "outputs": [
    {
     "data": {
      "text/plain": [
       "0.017507490509831247"
      ]
     },
     "execution_count": 7,
     "metadata": {},
     "output_type": "execute_result"
    }
   ],
   "source": [
    "p_value = 1 - stats.norm.cdf(z)\n",
    "p_value"
   ]
  },
  {
   "cell_type": "markdown",
   "id": "1a367cbd",
   "metadata": {},
   "source": [
    "Conclusion"
   ]
  },
  {
   "cell_type": "code",
   "execution_count": 8,
   "id": "d8c788c8",
   "metadata": {},
   "outputs": [
    {
     "name": "stdout",
     "output_type": "stream",
     "text": [
      "At 0.05 level of significance, we can reject the null hypothesis in favor of alternative hypothesis.\n"
     ]
    }
   ],
   "source": [
    "if p_value < alpha:\n",
    "    print('At {} level of significance, we can reject the null hypothesis in favor of alternative hypothesis.'.format(alpha))\n",
    "else:\n",
    "    print('At {} level of significance, we fail to reject the null hypothesis.'.format(alpha))"
   ]
  },
  {
   "cell_type": "markdown",
   "id": "9f9cfe83",
   "metadata": {},
   "source": [
    "## Example-2\n",
    "- A department store manager determines that a new billing system will be cost-effective only if the mean monthly account is more than 170 dollars.\n",
    "\n",
    "- A random sample of 400 monthly accounts is drawn, for which the sample mean is 178 dollars.\n",
    "\n",
    "- The accounts are approximately normally distributed with a standard deviation of 65 dollars.\n",
    "\n",
    "- Can we conclude that the new system will be cost-effective?\n",
    "\n",
    "    \n",
    "    - Bir mağaza müdürü, yeni bir fatura sisteminin maliyet etkin olacağını yalnızca aylık ortalama hesabın 170 dolardan fazla olduğunu belirler.\n",
    "\n",
    "    - Rastgele seçilen 400 aylık hesap için örneklem ortalama 178 dolardır.\n",
    "\n",
    "    - Hesaplar yaklaşık olarak 65 dolarlık bir standart sapmaya sahip olarak normal dağılır.\n",
    "\n",
    "    - Yeni sistemin maliyet etkin olacağını sonuçlandırabilir miyiz?"
   ]
  },
  {
   "cell_type": "code",
   "execution_count": 9,
   "id": "8ae6b87f",
   "metadata": {},
   "outputs": [],
   "source": [
    "#H0: mu = 170\n",
    "#H1: mu > 170"
   ]
  },
  {
   "cell_type": "code",
   "execution_count": 10,
   "id": "c7958753",
   "metadata": {},
   "outputs": [],
   "source": [
    "mu = 170\n",
    "\n",
    "x_bar = 178\n",
    "n = 400\n",
    "\n",
    "sigma = 65\n",
    "\n",
    "alpha = 0.05"
   ]
  },
  {
   "cell_type": "code",
   "execution_count": 11,
   "id": "b6bf1918",
   "metadata": {},
   "outputs": [
    {
     "data": {
      "text/plain": [
       "2.4615384615384617"
      ]
     },
     "execution_count": 11,
     "metadata": {},
     "output_type": "execute_result"
    }
   ],
   "source": [
    "z = (x_bar - mu) / (sigma/np.sqrt(n))\n",
    "z"
   ]
  },
  {
   "cell_type": "code",
   "execution_count": 12,
   "id": "e75330a1",
   "metadata": {},
   "outputs": [
    {
     "data": {
      "text/plain": [
       "3.25"
      ]
     },
     "execution_count": 12,
     "metadata": {},
     "output_type": "execute_result"
    }
   ],
   "source": [
    "#Standard Error\n",
    "sigma/np.sqrt(n)"
   ]
  },
  {
   "cell_type": "code",
   "execution_count": 13,
   "id": "86638b31",
   "metadata": {},
   "outputs": [],
   "source": [
    "p_value = 1 - stats.norm.cdf(z)"
   ]
  },
  {
   "cell_type": "code",
   "execution_count": 14,
   "id": "d019138c",
   "metadata": {},
   "outputs": [
    {
     "data": {
      "text/plain": [
       "0.006917128192854505"
      ]
     },
     "execution_count": 14,
     "metadata": {},
     "output_type": "execute_result"
    }
   ],
   "source": [
    "1 - stats.norm.cdf(178, 170, 3.25)"
   ]
  },
  {
   "cell_type": "code",
   "execution_count": 15,
   "id": "9bc28926",
   "metadata": {},
   "outputs": [
    {
     "name": "stdout",
     "output_type": "stream",
     "text": [
      "At 0.05 level of significance, we can reject the null hypothesis in favor of alternative hypothesis.\n"
     ]
    }
   ],
   "source": [
    "if p_value < alpha:\n",
    "    print('At {} level of significance, we can reject the null hypothesis in favor of alternative hypothesis.'.format(alpha))\n",
    "else:\n",
    "    print('At {} level of significance, we fail to reject the null hypothesis.'.format(alpha))"
   ]
  },
  {
   "cell_type": "markdown",
   "id": "f37b87a7",
   "metadata": {},
   "source": [
    "# One Sample t Test"
   ]
  },
  {
   "cell_type": "markdown",
   "id": "1c968dc4",
   "metadata": {},
   "source": [
    "## Example-1\n",
    "- Bon Air ELEM has 1000 students. The principal of the school thinks that the average IQ of students at Bon Air is at least 110. To prove her point, she administers an IQ test to 20 randomly selected students.\n",
    "- Among the sampled students, the average IQ is 108 with a standard deviation of 10.\n",
    "- Based on these results, should the principal accept or reject her original hypothesis? α = 0.01"
   ]
  },
  {
   "cell_type": "code",
   "execution_count": 16,
   "id": "e14649ab",
   "metadata": {},
   "outputs": [],
   "source": [
    "#H0: mu = 110\n",
    "#H1: mu < 110"
   ]
  },
  {
   "cell_type": "code",
   "execution_count": 17,
   "id": "e4db9b94",
   "metadata": {},
   "outputs": [],
   "source": [
    "mu = 110\n",
    "\n",
    "xbar = 108\n",
    "n = 20\n",
    "s = 10\n",
    "\n",
    "alpha = 0.01"
   ]
  },
  {
   "cell_type": "code",
   "execution_count": 18,
   "id": "dfc729b8",
   "metadata": {},
   "outputs": [
    {
     "data": {
      "text/plain": [
       "-0.8944271909999159"
      ]
     },
     "execution_count": 18,
     "metadata": {},
     "output_type": "execute_result"
    }
   ],
   "source": [
    "t = (xbar - mu) / (s / np.sqrt(n))\n",
    "t"
   ]
  },
  {
   "cell_type": "code",
   "execution_count": 19,
   "id": "4c40b6b7",
   "metadata": {},
   "outputs": [
    {
     "data": {
      "text/plain": [
       "0.1911420676837155"
      ]
     },
     "execution_count": 19,
     "metadata": {},
     "output_type": "execute_result"
    }
   ],
   "source": [
    "p_value = stats.t.cdf(t, df=n-1)\n",
    "p_value"
   ]
  },
  {
   "cell_type": "code",
   "execution_count": 22,
   "id": "f368d76a",
   "metadata": {},
   "outputs": [
    {
     "data": {
      "text/plain": [
       "-0.8944271909999159"
      ]
     },
     "execution_count": 22,
     "metadata": {},
     "output_type": "execute_result"
    }
   ],
   "source": [
    "stats.t.ppf(p_value, df=n-1) # t value"
   ]
  },
  {
   "cell_type": "code",
   "execution_count": 24,
   "id": "73a4c8c7",
   "metadata": {},
   "outputs": [
    {
     "data": {
      "text/plain": [
       "-2.5394831906222888"
      ]
     },
     "execution_count": 24,
     "metadata": {},
     "output_type": "execute_result"
    }
   ],
   "source": [
    "#How to calculate critical value\n",
    "critic_value = stats.t.ppf(alpha, df=n-1)\n",
    "critic_value"
   ]
  },
  {
   "cell_type": "code",
   "execution_count": 27,
   "id": "b71d930e",
   "metadata": {},
   "outputs": [
    {
     "name": "stdout",
     "output_type": "stream",
     "text": [
      "We do not reject the null hypothesis. We cannot conclude that the mean IQ is significantly lower than 110.\n"
     ]
    }
   ],
   "source": [
    "# Hipotez testinin sonucunu belirleme\n",
    "if t < critic_value:\n",
    "    print(\"We reject the null hypothesis. The mean IQ is significantly lower than 110.\")\n",
    "else:\n",
    "    print(\"We do not reject the null hypothesis. We cannot conclude that the mean IQ is significantly lower than 110.\")"
   ]
  },
  {
   "cell_type": "markdown",
   "id": "9d443980",
   "metadata": {},
   "source": [
    "    Bu testin sonucuna göre:\n",
    "\n",
    "    t-value: -0.8944271909999159'dur.\n",
    "    p-value: 0.1911420676837155'dur.\n",
    "    Critic value: -2.5394831906222888'dir.\n",
    "    \n",
    "    t-value, Critic value'dan büyük olduğu için, null hipotezi reddedemeyiz. Bu nedenle, ortalama IQ'nun 110'dan anlamlı derecede düşük olduğunu söyleyemeyiz.\n",
    "    \n",
    "    \n",
    "    Based on the results of this test:\n",
    "\n",
    "    t-value: -0.8944271909999159\n",
    "    p-value: 0.1911420676837155\n",
    "    Critical value: -2.5394831906222888\n",
    "    \n",
    "    Since the t-value is greater than the critical value, we do not reject the null hypothesis. Therefore, we cannot conclude that the mean IQ is significantly lower than 110."
   ]
  }
 ],
 "metadata": {
  "kernelspec": {
   "display_name": "Python 3 (ipykernel)",
   "language": "python",
   "name": "python3"
  },
  "language_info": {
   "codemirror_mode": {
    "name": "ipython",
    "version": 3
   },
   "file_extension": ".py",
   "mimetype": "text/x-python",
   "name": "python",
   "nbconvert_exporter": "python",
   "pygments_lexer": "ipython3",
   "version": "3.11.5"
  }
 },
 "nbformat": 4,
 "nbformat_minor": 5
}
